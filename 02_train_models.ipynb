{
 "cells": [
  {
   "cell_type": "markdown",
   "metadata": {},
   "source": [
    "# Urban Sound Challenge\n",
    "\n",
    "# 2. Model Training"
   ]
  },
  {
   "cell_type": "markdown",
   "metadata": {},
   "source": [
    "### Angabe:\n",
    "\n",
    "Auf folgender URL: https://urbansounddataset.weebly.com/ befinden sich Audio Dateien im WAV Format für Geräusche, die in einer Stadt aufgenommen wurden, z.B: Bohrhammer, Klimaanlage, spielende Kinder, Hundegebell, Schüsse eines Gewehrs, usw. \n",
    "Als Alternative steht ein stark reduziertes Dataset dieser Files im Archiv `urban_sound_files.zip` auf `https://filebox.fhooecloud.at` zur Verfügung.\n",
    "\n",
    "Laden Sie diese Files bzw. verwenden Sie urban_sound_files.zip und erstellen Sie Modelle, die eine Klassifikation der einzelnen Geräusche mit Hilfe von Neuronalen Netzen ermöglichen.  \n",
    "Verwenden und vergleichen Sie folgende Modelle:\n",
    "\n",
    "    a) Multilayer Perceptron  \n",
    "    b) Rekurrente Netzwerke: LSTM, GRU und Standard RNNs  \n",
    "    c) CNNs  "
   ]
  },
  {
   "cell_type": "code",
   "execution_count": 1,
   "metadata": {
    "pycharm": {
     "is_executing": false
    }
   },
   "outputs": [
    {
     "name": "stderr",
     "output_type": "stream",
     "text": [
      "Using TensorFlow backend.\n"
     ]
    }
   ],
   "source": [
    "import os\n",
    "from pathlib import Path\n",
    "from typing import List, Tuple, Any, Optional, Generator , Callable\n",
    "from comet_ml import Experiment, Optimizer\n",
    "import pandas as pd\n",
    "import numpy as np\n",
    "import librosa\n",
    "import librosa.display\n",
    "from collections import namedtuple\n",
    "from sklearn.preprocessing import LabelEncoder\n",
    "from keras import optimizers\n",
    "from keras.utils import to_categorical\n",
    "from sklearn.model_selection import train_test_split \n",
    "from keras.callbacks import EarlyStopping, ModelCheckpoint\n",
    "from datetime import datetime \n",
    "from functools import partial\n",
    "import matplotlib as plt\n",
    "\n",
    "from tqdm import tqdm\n",
    "from sklearn.metrics import confusion_matrix\n",
    "\n",
    "from src.utils import load_data, extract_features"
   ]
  },
  {
   "cell_type": "code",
   "execution_count": 36,
   "metadata": {
    "pycharm": {
     "name": "#%%\n"
    }
   },
   "outputs": [],
   "source": [
    "%matplotlib inline\n",
    "plt.style.use('ggplot')"
   ]
  },
  {
   "cell_type": "code",
   "execution_count": 3,
   "metadata": {},
   "outputs": [],
   "source": [
    "## 2.0 Training Configurations"
   ]
  },
  {
   "cell_type": "markdown",
   "metadata": {},
   "source": [
    "## 2.0 Training Configurations"
   ]
  },
  {
   "cell_type": "code",
   "execution_count": 4,
   "metadata": {
    "pycharm": {
     "is_executing": false
    }
   },
   "outputs": [],
   "source": [
    "from src.models import MLPModel, CNNModel, LSTMModel, RNNModel, GRUModel"
   ]
  },
  {
   "cell_type": "code",
   "execution_count": 5,
   "metadata": {
    "pycharm": {
     "is_executing": false
    }
   },
   "outputs": [],
   "source": [
    "ModelConfig = namedtuple('ModelTrainConfig', ['model_class', 'hyper_params', 'prep_params'])\n",
    "\n",
    "models = {\n",
    "    'mlp': ModelConfig(\n",
    "        MLPModel,\n",
    "        hyper_params={ 'epochs': 200, 'batch_size': 32},\n",
    "        prep_params={ 'output_ndim': 1 }\n",
    "    ),\n",
    "    'cnn': ModelConfig(\n",
    "        CNNModel,\n",
    "        hyper_params = { 'epochs': 200, 'batch_size': 64 },\n",
    "        prep_params = { 'output_ndim': 2, 'pad_mode': 'constant' }\n",
    "    ),\n",
    "    'rnn': ModelConfig(\n",
    "        RNNModel,\n",
    "        hyper_params= { 'epochs': 1000, 'batch_size': 32 },\n",
    "        prep_params = { 'output_ndim': 2 }\n",
    "    ),\n",
    "    'lstm': ModelConfig(\n",
    "        LSTMModel,\n",
    "        hyper_params= { 'epochs': 200, 'batch_size': 32 },\n",
    "        prep_params = { 'output_ndim': 2, 'pad_mode': 'constant' }\n",
    "    ),\n",
    "    'gru': ModelConfig(\n",
    "        GRUModel,\n",
    "        hyper_params= {  'epochs': 200, 'batch_size': 32 },\n",
    "        prep_params = { 'output_ndim': 2 }\n",
    "    ),\n",
    "}"
   ]
  },
  {
   "cell_type": "code",
   "execution_count": 6,
   "metadata": {
    "pycharm": {
     "is_executing": false
    }
   },
   "outputs": [],
   "source": [
    "m = models['rnn']\n",
    "model_name = m.model_class.__name__"
   ]
  },
  {
   "cell_type": "code",
   "execution_count": 7,
   "metadata": {
    "pycharm": {
     "is_executing": false
    }
   },
   "outputs": [],
   "source": [
    "FIG_DIR = Path('./reports/figures/') / model_name\n",
    "MODELS_DIR = Path(\"./models/\")"
   ]
  },
  {
   "cell_type": "markdown",
   "metadata": {},
   "source": [
    "## 2.1 Preparations\n",
    "\n",
    "Settings for `comet.ml`"
   ]
  },
  {
   "cell_type": "code",
   "execution_count": 8,
   "metadata": {
    "pycharm": {
     "is_executing": false,
     "name": "#%%\n"
    },
    "scrolled": true
   },
   "outputs": [
    {
     "name": "stderr",
     "output_type": "stream",
     "text": [
      "COMET INFO: old comet version (3.0.1) detected. current: 3.0.2 please update your comet lib with command: `pip install --no-cache-dir --upgrade comet_ml`\n",
      "COMET INFO: Experiment is live on comet.ml https://www.comet.ml/slashme/urbansound/dfd344228de040078ff6de23c9141034\n",
      "\n"
     ]
    }
   ],
   "source": [
    "# settings for tracking experiments via comet.ml\n",
    "COMET_SETTINGS = {\n",
    "    \"api_key\": \"k4DgVz1cmTM6MS4shK1A1K0aQ\",\n",
    "    \"project_name\": \"urbansound\", \n",
    "    \"workspace\": \"slashme\"\n",
    "}\n",
    "\n",
    "experiment = Experiment(**COMET_SETTINGS)"
   ]
  },
  {
   "cell_type": "markdown",
   "metadata": {},
   "source": [
    "##### Settings for Hyperparameter Optimizer"
   ]
  },
  {
   "cell_type": "code",
   "execution_count": 9,
   "metadata": {
    "pycharm": {
     "is_executing": false
    }
   },
   "outputs": [
    {
     "name": "stderr",
     "output_type": "stream",
     "text": [
      "COMET INFO: COMET_OPTIMIZER_ID=107d140dace54e6fb0ee5de37ef30427\n",
      "COMET INFO: Using optimizer config: {'algorithm': 'bayes', 'configSpaceSize': 'infinite', 'endTime': None, 'id': '107d140dace54e6fb0ee5de37ef30427', 'lastUpdateTime': None, 'maxCombo': 0, 'name': '107d140dace54e6fb0ee5de37ef30427', 'parameters': {'x': {'max': 5, 'min': 1, 'scalingType': 'uniform', 'type': 'integer'}}, 'predictor': None, 'spec': {'gridSize': 10, 'maxCombo': 0, 'metric': 'loss', 'minSampleSize': 100, 'objective': 'minimize', 'retryAssignLimit': 0, 'retryLimit': 20, 'seed': 42}, 'startTime': 15199083319, 'state': {'sequence_i': 0, 'sequence_pid': None, 'sequence_retry': 0}, 'status': 'running', 'suggestion_count': 0, 'trials': 1, 'version': '1.0.24'}\n"
     ]
    }
   ],
   "source": [
    "# We only need to specify the algorithm and hyperparameters to use:\n",
    "config = {\n",
    "    \"algorithm\": \"bayes\",\n",
    "\n",
    "    # Declare your hyperparameters in the Vizier-inspired format:\n",
    "    \"parameters\": {\n",
    "        \"x\": {\"type\": \"integer\", \"min\": 1, \"max\": 5},\n",
    "    },\n",
    "\n",
    "    # Declare what we will be optimizing, and how:\n",
    "    \"spec\": {\n",
    "        \"metric\": \"loss\",\n",
    "        \"objective\": \"minimize\",\n",
    "        \"seed\": 42,\n",
    "    },\n",
    "}\n",
    "\n",
    "# Next, create an optimizer, passing in the config:\n",
    "# (You can leave out API_KEY if you already set it)\n",
    "opt = Optimizer(config, api_key=COMET_SETTINGS['api_key'])"
   ]
  },
  {
   "cell_type": "code",
   "execution_count": 10,
   "metadata": {
    "pycharm": {
     "is_executing": false
    }
   },
   "outputs": [],
   "source": [
    " \n",
    "# for experiment in optimizer.get_experiments(project_name=COMET_SETTINGS['project_name']):\n",
    "\n",
    "# # Test the model\n",
    "# loss = fit(experiment.get_parameter(\"size\"),\n",
    "#          experiment.get_parameter(\"lr\"))\n",
    "\n",
    "# # Report the loss, if not auto-logged:\n",
    "# experiment.log_metric(\"loss\", loss)\n"
   ]
  },
  {
   "cell_type": "markdown",
   "metadata": {},
   "source": [
    "#### Prepare environment for training\n",
    "\n",
    "Set and create (if necessary) auxiliary folders and start tracking the new experiment"
   ]
  },
  {
   "cell_type": "code",
   "execution_count": 11,
   "metadata": {
    "pycharm": {
     "is_executing": false
    }
   },
   "outputs": [],
   "source": [
    "model_dest_file = str(MODELS_DIR/f\"{model_name}.h5\")   # Keras requires the path to be a string\n",
    "fig_dir = Path(f\"./reports/figures/{model_name}/\")\n",
    "\n",
    "if not os.path.exists(MODELS_DIR):\n",
    "    os.mkdir(MODELS_DIR)\n",
    "if not os.path.exists(fig_dir):\n",
    "    os.mkdir(fig_dir)"
   ]
  },
  {
   "cell_type": "markdown",
   "metadata": {
    "pycharm": {
     "is_executing": false
    }
   },
   "source": [
    "track model training via comet.ml"
   ]
  },
  {
   "cell_type": "code",
   "execution_count": 12,
   "metadata": {
    "pycharm": {
     "is_executing": false
    }
   },
   "outputs": [],
   "source": [
    "experiment.set_name(model_name)\n",
    "experiment.log_parameters(m.hyper_params)"
   ]
  },
  {
   "cell_type": "markdown",
   "metadata": {},
   "source": [
    "### 2.1.1 Load Data"
   ]
  },
  {
   "cell_type": "code",
   "execution_count": 13,
   "metadata": {
    "pycharm": {
     "is_executing": false,
     "name": "#%%\n"
    },
    "scrolled": true
   },
   "outputs": [
    {
     "name": "stdout",
     "output_type": "stream",
     "text": [
      "Loading cached data!\n"
     ]
    }
   ],
   "source": [
    "data_dir = Path('./data/raw')\n",
    "data = load_data(data_dir, \"train_long.csv\", \"train_long_cached.pkl\")"
   ]
  },
  {
   "cell_type": "code",
   "execution_count": 14,
   "metadata": {},
   "outputs": [],
   "source": [
    "classes = [\n",
    "    'air_conditioner',\n",
    "    'car_horn',\n",
    "    'children_playing',\n",
    "    'dog_bark',\n",
    "    'drilling',\n",
    "    'engine_idling',\n",
    "    'gun_shot',\n",
    "    'jackhammer',\n",
    "    'siren',\n",
    "    'street_music'\n",
    "]"
   ]
  },
  {
   "cell_type": "markdown",
   "metadata": {},
   "source": [
    "### 2.1.2 Extract Features"
   ]
  },
  {
   "cell_type": "code",
   "execution_count": 15,
   "metadata": {
    "pycharm": {
     "is_executing": false
    }
   },
   "outputs": [],
   "source": [
    "def preprocess_features(df, cache_name: Optional[str]=None, **kwargs):\n",
    "    CACHE_DIR = Path('./data/interim/')\n",
    "    if cache_name is None:  # create default cache name\n",
    "        dim = str(kwargs.get('output_ndim', 2))+\"d\"\n",
    "        pad_mode = kwargs.get('pad_mode', 'constant')\n",
    "        cache_name = f\"_prepped_{dim}_{pad_mode}.pkl\"\n",
    "        \n",
    "    if os.path.exists(CACHE_DIR/cache_name):\n",
    "        print(f\"Loading cached data!\")\n",
    "        return pd.read_pickle(CACHE_DIR/cache_name)\n",
    "    df_extracted = df.apply(lambda x: extract_features(x.raw, x.sample_rate, **kwargs), axis=1)\n",
    "    \n",
    "    df = pd.concat([df, df_extracted], axis=1)\n",
    "    if cache_name is not None:\n",
    "        print(f\"Saved prepped data to '{cache_name}'\")\n",
    "        df.to_pickle(CACHE_DIR/cache_name)\n",
    "    return df"
   ]
  },
  {
   "cell_type": "code",
   "execution_count": 16,
   "metadata": {
    "pycharm": {
     "is_executing": false
    },
    "scrolled": true
   },
   "outputs": [
    {
     "name": "stdout",
     "output_type": "stream",
     "text": [
      "Loading cached data!\n"
     ]
    }
   ],
   "source": [
    "df = preprocess_features(data, max_pad=174)"
   ]
  },
  {
   "cell_type": "code",
   "execution_count": 17,
   "metadata": {
    "pycharm": {
     "is_executing": false
    },
    "scrolled": true
   },
   "outputs": [
    {
     "data": {
      "text/html": [
       "<div>\n",
       "<style scoped>\n",
       "    .dataframe tbody tr th:only-of-type {\n",
       "        vertical-align: middle;\n",
       "    }\n",
       "\n",
       "    .dataframe tbody tr th {\n",
       "        vertical-align: top;\n",
       "    }\n",
       "\n",
       "    .dataframe thead th {\n",
       "        text-align: right;\n",
       "    }\n",
       "</style>\n",
       "<table border=\"1\" class=\"dataframe\">\n",
       "  <thead>\n",
       "    <tr style=\"text-align: right;\">\n",
       "      <th></th>\n",
       "      <th>ID</th>\n",
       "      <th>Class</th>\n",
       "      <th>raw</th>\n",
       "      <th>sample_rate</th>\n",
       "      <th>duration</th>\n",
       "      <th>features</th>\n",
       "      <th>n_mfccs</th>\n",
       "      <th>n_frames</th>\n",
       "      <th>n_samples</th>\n",
       "    </tr>\n",
       "  </thead>\n",
       "  <tbody>\n",
       "    <tr>\n",
       "      <th>0</th>\n",
       "      <td>0</td>\n",
       "      <td>siren</td>\n",
       "      <td>[-0.012129276, -0.027601117, -0.025355084, -0....</td>\n",
       "      <td>22050</td>\n",
       "      <td>4.000000</td>\n",
       "      <td>[[-76.076836, -69.314156, -72.66219, -73.40612...</td>\n",
       "      <td>40</td>\n",
       "      <td>174</td>\n",
       "      <td>88200</td>\n",
       "    </tr>\n",
       "    <tr>\n",
       "      <th>1</th>\n",
       "      <td>1</td>\n",
       "      <td>street_music</td>\n",
       "      <td>[-0.09602016, -0.14303702, 0.05203498, 0.10233...</td>\n",
       "      <td>22050</td>\n",
       "      <td>4.000000</td>\n",
       "      <td>[[12.925442, -5.3520455, -34.82658, -49.400352...</td>\n",
       "      <td>40</td>\n",
       "      <td>174</td>\n",
       "      <td>88200</td>\n",
       "    </tr>\n",
       "    <tr>\n",
       "      <th>2</th>\n",
       "      <td>2</td>\n",
       "      <td>drilling</td>\n",
       "      <td>[-0.0006929353, -0.0012265302, -0.0011871828, ...</td>\n",
       "      <td>22050</td>\n",
       "      <td>4.000000</td>\n",
       "      <td>[[-482.6237, -446.6598, -431.8628, -428.26984,...</td>\n",
       "      <td>40</td>\n",
       "      <td>174</td>\n",
       "      <td>88200</td>\n",
       "    </tr>\n",
       "    <tr>\n",
       "      <th>3</th>\n",
       "      <td>3</td>\n",
       "      <td>siren</td>\n",
       "      <td>[0.02706518, 0.048945263, -0.052624583, -0.208...</td>\n",
       "      <td>22050</td>\n",
       "      <td>4.000000</td>\n",
       "      <td>[[-75.61564, -87.232124, -111.308784, -115.822...</td>\n",
       "      <td>40</td>\n",
       "      <td>174</td>\n",
       "      <td>88200</td>\n",
       "    </tr>\n",
       "    <tr>\n",
       "      <th>4</th>\n",
       "      <td>4</td>\n",
       "      <td>dog_bark</td>\n",
       "      <td>[0.07636129, 0.117822915, 0.10266275, 0.106471...</td>\n",
       "      <td>22050</td>\n",
       "      <td>4.000000</td>\n",
       "      <td>[[-257.4971, -231.21112, -196.4951, -173.29199...</td>\n",
       "      <td>40</td>\n",
       "      <td>174</td>\n",
       "      <td>88200</td>\n",
       "    </tr>\n",
       "    <tr>\n",
       "      <th>...</th>\n",
       "      <td>...</td>\n",
       "      <td>...</td>\n",
       "      <td>...</td>\n",
       "      <td>...</td>\n",
       "      <td>...</td>\n",
       "      <td>...</td>\n",
       "      <td>...</td>\n",
       "      <td>...</td>\n",
       "      <td>...</td>\n",
       "    </tr>\n",
       "    <tr>\n",
       "      <th>3632</th>\n",
       "      <td>8720</td>\n",
       "      <td>street_music</td>\n",
       "      <td>[-0.07785502, -0.11421067, -0.10142167, -0.110...</td>\n",
       "      <td>22050</td>\n",
       "      <td>4.000000</td>\n",
       "      <td>[[-362.47433, -380.73764, -397.3177, -407.8087...</td>\n",
       "      <td>40</td>\n",
       "      <td>174</td>\n",
       "      <td>88200</td>\n",
       "    </tr>\n",
       "    <tr>\n",
       "      <th>3633</th>\n",
       "      <td>8722</td>\n",
       "      <td>dog_bark</td>\n",
       "      <td>[0.0019674515, 0.003834403, 0.0017573227, 0.00...</td>\n",
       "      <td>22050</td>\n",
       "      <td>3.480000</td>\n",
       "      <td>[[-364.3833, -227.78868, -134.64859, -90.52688...</td>\n",
       "      <td>40</td>\n",
       "      <td>174</td>\n",
       "      <td>76734</td>\n",
       "    </tr>\n",
       "    <tr>\n",
       "      <th>3634</th>\n",
       "      <td>8723</td>\n",
       "      <td>street_music</td>\n",
       "      <td>[-0.13602088, -0.19903006, -0.17202714, -0.187...</td>\n",
       "      <td>22050</td>\n",
       "      <td>4.000000</td>\n",
       "      <td>[[-197.00887, -176.01727, -150.27272, -130.609...</td>\n",
       "      <td>40</td>\n",
       "      <td>174</td>\n",
       "      <td>88200</td>\n",
       "    </tr>\n",
       "    <tr>\n",
       "      <th>3635</th>\n",
       "      <td>8726</td>\n",
       "      <td>dog_bark</td>\n",
       "      <td>[-9.743463e-05, -0.00013001809, -7.625971e-05,...</td>\n",
       "      <td>22050</td>\n",
       "      <td>2.206485</td>\n",
       "      <td>[[-605.8613, -601.63245, -556.4389, -343.25024...</td>\n",
       "      <td>40</td>\n",
       "      <td>174</td>\n",
       "      <td>48653</td>\n",
       "    </tr>\n",
       "    <tr>\n",
       "      <th>3636</th>\n",
       "      <td>8727</td>\n",
       "      <td>engine_idling</td>\n",
       "      <td>[-0.009406619, -0.009002007, -0.0016074901, -0...</td>\n",
       "      <td>22050</td>\n",
       "      <td>4.000000</td>\n",
       "      <td>[[-311.094, -301.91245, -298.6071, -301.07385,...</td>\n",
       "      <td>40</td>\n",
       "      <td>174</td>\n",
       "      <td>88200</td>\n",
       "    </tr>\n",
       "  </tbody>\n",
       "</table>\n",
       "<p>3637 rows × 9 columns</p>\n",
       "</div>"
      ],
      "text/plain": [
       "        ID          Class                                                raw  \\\n",
       "0        0          siren  [-0.012129276, -0.027601117, -0.025355084, -0....   \n",
       "1        1   street_music  [-0.09602016, -0.14303702, 0.05203498, 0.10233...   \n",
       "2        2       drilling  [-0.0006929353, -0.0012265302, -0.0011871828, ...   \n",
       "3        3          siren  [0.02706518, 0.048945263, -0.052624583, -0.208...   \n",
       "4        4       dog_bark  [0.07636129, 0.117822915, 0.10266275, 0.106471...   \n",
       "...    ...            ...                                                ...   \n",
       "3632  8720   street_music  [-0.07785502, -0.11421067, -0.10142167, -0.110...   \n",
       "3633  8722       dog_bark  [0.0019674515, 0.003834403, 0.0017573227, 0.00...   \n",
       "3634  8723   street_music  [-0.13602088, -0.19903006, -0.17202714, -0.187...   \n",
       "3635  8726       dog_bark  [-9.743463e-05, -0.00013001809, -7.625971e-05,...   \n",
       "3636  8727  engine_idling  [-0.009406619, -0.009002007, -0.0016074901, -0...   \n",
       "\n",
       "      sample_rate  duration  \\\n",
       "0           22050  4.000000   \n",
       "1           22050  4.000000   \n",
       "2           22050  4.000000   \n",
       "3           22050  4.000000   \n",
       "4           22050  4.000000   \n",
       "...           ...       ...   \n",
       "3632        22050  4.000000   \n",
       "3633        22050  3.480000   \n",
       "3634        22050  4.000000   \n",
       "3635        22050  2.206485   \n",
       "3636        22050  4.000000   \n",
       "\n",
       "                                               features  n_mfccs  n_frames  \\\n",
       "0     [[-76.076836, -69.314156, -72.66219, -73.40612...       40       174   \n",
       "1     [[12.925442, -5.3520455, -34.82658, -49.400352...       40       174   \n",
       "2     [[-482.6237, -446.6598, -431.8628, -428.26984,...       40       174   \n",
       "3     [[-75.61564, -87.232124, -111.308784, -115.822...       40       174   \n",
       "4     [[-257.4971, -231.21112, -196.4951, -173.29199...       40       174   \n",
       "...                                                 ...      ...       ...   \n",
       "3632  [[-362.47433, -380.73764, -397.3177, -407.8087...       40       174   \n",
       "3633  [[-364.3833, -227.78868, -134.64859, -90.52688...       40       174   \n",
       "3634  [[-197.00887, -176.01727, -150.27272, -130.609...       40       174   \n",
       "3635  [[-605.8613, -601.63245, -556.4389, -343.25024...       40       174   \n",
       "3636  [[-311.094, -301.91245, -298.6071, -301.07385,...       40       174   \n",
       "\n",
       "      n_samples  \n",
       "0         88200  \n",
       "1         88200  \n",
       "2         88200  \n",
       "3         88200  \n",
       "4         88200  \n",
       "...         ...  \n",
       "3632      88200  \n",
       "3633      76734  \n",
       "3634      88200  \n",
       "3635      48653  \n",
       "3636      88200  \n",
       "\n",
       "[3637 rows x 9 columns]"
      ]
     },
     "execution_count": 17,
     "metadata": {},
     "output_type": "execute_result"
    }
   ],
   "source": [
    "df"
   ]
  },
  {
   "cell_type": "markdown",
   "metadata": {},
   "source": [
    "\n",
    "### 2.1.4 Split the Dataset "
   ]
  },
  {
   "cell_type": "code",
   "execution_count": 18,
   "metadata": {
    "pycharm": {
     "is_executing": false
    },
    "scrolled": false
   },
   "outputs": [
    {
     "name": "stdout",
     "output_type": "stream",
     "text": [
      "Preparing data for RNNModel model\n",
      "x-shape: (3637, 174, 40) / 1st element: (174, 40)\n",
      "x_train: (2909, 174, 40),   x_test: (728, 174, 40)\n",
      "Training RNNModel model\n"
     ]
    }
   ],
   "source": [
    "print(f\"Preparing data for {model_name} model\")\n",
    "#x, y = prepare_data(df, m.model_class.reshape_data)\n",
    "\n",
    "# Convert features and corresponding classification labels into numpy arrays\n",
    "x = np.array(df.features.tolist())\n",
    "x = m.model_class.reshape_data(x)\n",
    "y = np.array(df.Class.tolist())\n",
    "\n",
    "# Encode the classification labels\n",
    "le = LabelEncoder()\n",
    "y_1h = to_categorical(le.fit_transform(y))\n",
    "\n",
    "print(f\"x-shape: {x.shape} / 1st element: {x[0].shape}\")\n",
    "\n",
    "x_train, x_test, y_train, y_test = train_test_split(x, y_1h, test_size=0.2, random_state = 42)\n",
    "\n",
    "print(f\"x_train: {x_train.shape},   x_test: {x_test.shape}\")\n",
    "print(f\"Training {model_name} model\")"
   ]
  },
  {
   "cell_type": "markdown",
   "metadata": {},
   "source": [
    "## 2.2 Train Model"
   ]
  },
  {
   "cell_type": "markdown",
   "metadata": {},
   "source": [
    "Preparing data to meet the requirements for the given model"
   ]
  },
  {
   "cell_type": "code",
   "execution_count": 19,
   "metadata": {
    "pycharm": {
     "is_executing": false
    },
    "scrolled": true
   },
   "outputs": [
    {
     "name": "stdout",
     "output_type": "stream",
     "text": [
      "Input Shape: (174, 40)\n",
      "Input shape: (174, 40)\n"
     ]
    }
   ],
   "source": [
    "# create model\n",
    "no_classes = len(classes)  # number of columns of one hot encoded labels = number of classes\n",
    "input_shape = x[0].shape\n",
    "\n",
    "print(f\"Input Shape: {input_shape}\")\n",
    "model = m.model_class.create(no_classes, input_shape)\n",
    "model.compile(loss='categorical_crossentropy', metrics=['accuracy'], optimizer='adam')\n"
   ]
  },
  {
   "cell_type": "code",
   "execution_count": 20,
   "metadata": {
    "pycharm": {
     "is_executing": false
    }
   },
   "outputs": [
    {
     "name": "stdout",
     "output_type": "stream",
     "text": [
      "728/728 [==============================] - 0s 486us/step\n",
      "Pre-training accuracy: 11.5385%\n"
     ]
    }
   ],
   "source": [
    "# Calculate pre-praining accuracy\n",
    "score = model.evaluate(x_test, y_test, verbose=1)\n",
    "accuracy = 100*score[1]\n",
    "print(f\"Pre-training accuracy: {accuracy:.4f}%\")\n",
    "experiment.log_metric(\"Pre-training accuracy\", accuracy)"
   ]
  },
  {
   "cell_type": "code",
   "execution_count": 21,
   "metadata": {},
   "outputs": [
    {
     "name": "stdout",
     "output_type": "stream",
     "text": [
      "Model: \"RNN\"\n",
      "_________________________________________________________________\n",
      "Layer (type)                 Output Shape              Param #   \n",
      "=================================================================\n",
      "simple_rnn_1 (SimpleRNN)     (None, 174)               37410     \n",
      "_________________________________________________________________\n",
      "dense_1 (Dense)              (None, 256)               44800     \n",
      "_________________________________________________________________\n",
      "dense_2 (Dense)              (None, 10)                2570      \n",
      "=================================================================\n",
      "Total params: 84,780\n",
      "Trainable params: 84,780\n",
      "Non-trainable params: 0\n",
      "_________________________________________________________________\n"
     ]
    }
   ],
   "source": [
    "model.summary()"
   ]
  },
  {
   "cell_type": "code",
   "execution_count": 22,
   "metadata": {
    "pycharm": {
     "is_executing": false
    },
    "scrolled": true
   },
   "outputs": [
    {
     "name": "stderr",
     "output_type": "stream",
     "text": [
      "COMET INFO: Ignoring automatic log_parameter('verbose') because 'keras:verbose' is in COMET_LOGGING_PARAMETERS_IGNORE\n",
      "COMET INFO: Ignoring automatic log_parameter('do_validation') because 'keras:do_validation' is in COMET_LOGGING_PARAMETERS_IGNORE\n"
     ]
    },
    {
     "name": "stdout",
     "output_type": "stream",
     "text": [
      "Train on 2909 samples, validate on 728 samples\n",
      "Epoch 1/1000\n",
      "  32/2909 [..............................] - ETA: 20s - loss: 17.3336 - accuracy: 0.1250"
     ]
    },
    {
     "name": "stderr",
     "output_type": "stream",
     "text": [
      "COMET INFO: Ignoring automatic log_metric('batch_batch') because 'keras:batch_batch' is in COMET_LOGGING_METRICS_IGNORE\n",
      "COMET INFO: Ignoring automatic log_metric('batch_size') because 'keras:batch_size' is in COMET_LOGGING_METRICS_IGNORE\n"
     ]
    },
    {
     "name": "stdout",
     "output_type": "stream",
     "text": [
      "2909/2909 [==============================] - 4s 1ms/step - loss: 3.5507 - accuracy: 0.2076 - val_loss: 1.8867 - val_accuracy: 0.3187\n",
      "\n",
      "Epoch 00001: val_loss improved from inf to 1.88669, saving model to models\\RNNModel.h5\n",
      "Epoch 2/1000\n",
      "2909/2909 [==============================] - 4s 1ms/step - loss: 2.0680 - accuracy: 0.3022 - val_loss: 1.8418 - val_accuracy: 0.3640\n",
      "\n",
      "Epoch 00002: val_loss improved from 1.88669 to 1.84178, saving model to models\\RNNModel.h5\n",
      "Epoch 3/1000\n",
      "2909/2909 [==============================] - 4s 1ms/step - loss: 1.7991 - accuracy: 0.3592 - val_loss: 1.5704 - val_accuracy: 0.4423\n",
      "\n",
      "Epoch 00003: val_loss improved from 1.84178 to 1.57044, saving model to models\\RNNModel.h5\n",
      "Epoch 4/1000\n",
      "2909/2909 [==============================] - 4s 1ms/step - loss: 1.7200 - accuracy: 0.3702 - val_loss: 1.5527 - val_accuracy: 0.4409\n",
      "\n",
      "Epoch 00004: val_loss improved from 1.57044 to 1.55266, saving model to models\\RNNModel.h5\n",
      "Epoch 5/1000\n",
      "2909/2909 [==============================] - 4s 1ms/step - loss: 1.6874 - accuracy: 0.3695 - val_loss: 1.4866 - val_accuracy: 0.4712\n",
      "\n",
      "Epoch 00005: val_loss improved from 1.55266 to 1.48656, saving model to models\\RNNModel.h5\n",
      "Epoch 6/1000\n",
      "2909/2909 [==============================] - 4s 1ms/step - loss: 1.6087 - accuracy: 0.4067 - val_loss: 1.5261 - val_accuracy: 0.4519\n",
      "\n",
      "Epoch 00006: val_loss did not improve from 1.48656\n",
      "Epoch 7/1000\n",
      "2909/2909 [==============================] - 4s 1ms/step - loss: 1.6124 - accuracy: 0.3891 - val_loss: 1.4641 - val_accuracy: 0.4794\n",
      "\n",
      "Epoch 00007: val_loss improved from 1.48656 to 1.46414, saving model to models\\RNNModel.h5\n",
      "Epoch 8/1000\n",
      "2909/2909 [==============================] - 4s 1ms/step - loss: 1.5420 - accuracy: 0.4249 - val_loss: 1.5580 - val_accuracy: 0.4478\n",
      "\n",
      "Epoch 00008: val_loss did not improve from 1.46414\n",
      "Epoch 9/1000\n",
      "2909/2909 [==============================] - 4s 1ms/step - loss: 1.5262 - accuracy: 0.4414 - val_loss: 1.3969 - val_accuracy: 0.4904\n",
      "\n",
      "Epoch 00009: val_loss improved from 1.46414 to 1.39694, saving model to models\\RNNModel.h5\n",
      "Epoch 10/1000\n",
      "2909/2909 [==============================] - 4s 1ms/step - loss: 1.5064 - accuracy: 0.4534 - val_loss: 1.4077 - val_accuracy: 0.4780\n",
      "\n",
      "Epoch 00010: val_loss did not improve from 1.39694\n",
      "Epoch 11/1000\n",
      "2909/2909 [==============================] - 4s 1ms/step - loss: 1.4817 - accuracy: 0.4524 - val_loss: 1.4227 - val_accuracy: 0.4931\n",
      "\n",
      "Epoch 00011: val_loss did not improve from 1.39694\n",
      "Epoch 12/1000\n",
      "2909/2909 [==============================] - 4s 1ms/step - loss: 1.4752 - accuracy: 0.4606 - val_loss: 1.3847 - val_accuracy: 0.5027\n",
      "\n",
      "Epoch 00012: val_loss improved from 1.39694 to 1.38473, saving model to models\\RNNModel.h5\n",
      "Epoch 13/1000\n",
      "2909/2909 [==============================] - 4s 1ms/step - loss: 1.4422 - accuracy: 0.4679 - val_loss: 1.4183 - val_accuracy: 0.4904\n",
      "\n",
      "Epoch 00013: val_loss did not improve from 1.38473\n",
      "Epoch 14/1000\n",
      "2909/2909 [==============================] - 4s 1ms/step - loss: 1.4337 - accuracy: 0.4696 - val_loss: 1.3604 - val_accuracy: 0.5179\n",
      "\n",
      "Epoch 00014: val_loss improved from 1.38473 to 1.36035, saving model to models\\RNNModel.h5\n",
      "Epoch 15/1000\n",
      "2909/2909 [==============================] - 4s 1ms/step - loss: 1.4166 - accuracy: 0.4692 - val_loss: 1.3534 - val_accuracy: 0.5288\n",
      "\n",
      "Epoch 00015: val_loss improved from 1.36035 to 1.35340, saving model to models\\RNNModel.h5\n",
      "Epoch 16/1000\n",
      "2909/2909 [==============================] - 4s 1ms/step - loss: 1.3890 - accuracy: 0.4734 - val_loss: 1.3300 - val_accuracy: 0.5275\n",
      "\n",
      "Epoch 00016: val_loss improved from 1.35340 to 1.32995, saving model to models\\RNNModel.h5\n",
      "Epoch 17/1000\n",
      "2909/2909 [==============================] - 4s 1ms/step - loss: 1.3803 - accuracy: 0.4912 - val_loss: 1.3341 - val_accuracy: 0.5192\n",
      "\n",
      "Epoch 00017: val_loss did not improve from 1.32995\n",
      "Epoch 18/1000\n",
      "2909/2909 [==============================] - 4s 1ms/step - loss: 1.3848 - accuracy: 0.4861 - val_loss: 1.3325 - val_accuracy: 0.5426\n",
      "\n",
      "Epoch 00018: val_loss did not improve from 1.32995\n",
      "Epoch 19/1000\n",
      "2909/2909 [==============================] - 4s 1ms/step - loss: 1.3632 - accuracy: 0.4995 - val_loss: 1.2811 - val_accuracy: 0.5343\n",
      "\n",
      "Epoch 00019: val_loss improved from 1.32995 to 1.28112, saving model to models\\RNNModel.h5\n",
      "Epoch 20/1000\n",
      "2909/2909 [==============================] - 4s 1ms/step - loss: 1.3510 - accuracy: 0.4940 - val_loss: 1.2998 - val_accuracy: 0.5453\n",
      "\n",
      "Epoch 00020: val_loss did not improve from 1.28112\n",
      "Epoch 21/1000\n",
      "2909/2909 [==============================] - 4s 1ms/step - loss: 1.3292 - accuracy: 0.5026 - val_loss: 1.2674 - val_accuracy: 0.5549\n",
      "\n",
      "Epoch 00021: val_loss improved from 1.28112 to 1.26744, saving model to models\\RNNModel.h5\n",
      "Epoch 22/1000\n",
      "2909/2909 [==============================] - 4s 1ms/step - loss: 1.3627 - accuracy: 0.4864 - val_loss: 1.2658 - val_accuracy: 0.5440\n",
      "\n",
      "Epoch 00022: val_loss improved from 1.26744 to 1.26579, saving model to models\\RNNModel.h5\n",
      "Epoch 23/1000\n",
      "2909/2909 [==============================] - 4s 1ms/step - loss: 1.3177 - accuracy: 0.5074 - val_loss: 1.2635 - val_accuracy: 0.5797\n",
      "\n",
      "Epoch 00023: val_loss improved from 1.26579 to 1.26350, saving model to models\\RNNModel.h5\n",
      "Epoch 24/1000\n",
      "2909/2909 [==============================] - 4s 1ms/step - loss: 1.3146 - accuracy: 0.5205 - val_loss: 1.2716 - val_accuracy: 0.5398\n",
      "\n",
      "Epoch 00024: val_loss did not improve from 1.26350\n",
      "Epoch 25/1000\n",
      "2909/2909 [==============================] - 4s 1ms/step - loss: 1.2907 - accuracy: 0.4985 - val_loss: 1.2293 - val_accuracy: 0.5742\n",
      "\n",
      "Epoch 00025: val_loss improved from 1.26350 to 1.22929, saving model to models\\RNNModel.h5\n",
      "Epoch 26/1000\n",
      "2909/2909 [==============================] - 4s 1ms/step - loss: 1.2989 - accuracy: 0.5139 - val_loss: 1.2986 - val_accuracy: 0.5398\n",
      "\n",
      "Epoch 00026: val_loss did not improve from 1.22929\n",
      "Epoch 27/1000\n",
      "2909/2909 [==============================] - 4s 1ms/step - loss: 1.2800 - accuracy: 0.5143 - val_loss: 1.2039 - val_accuracy: 0.5659\n",
      "\n",
      "Epoch 00027: val_loss improved from 1.22929 to 1.20386, saving model to models\\RNNModel.h5\n",
      "Epoch 28/1000\n",
      "2909/2909 [==============================] - 4s 1ms/step - loss: 1.2905 - accuracy: 0.5211 - val_loss: 1.2774 - val_accuracy: 0.5563\n",
      "\n",
      "Epoch 00028: val_loss did not improve from 1.20386\n",
      "Epoch 29/1000\n",
      "2909/2909 [==============================] - 4s 1ms/step - loss: 1.2437 - accuracy: 0.5318 - val_loss: 1.2477 - val_accuracy: 0.5687\n",
      "\n",
      "Epoch 00029: val_loss did not improve from 1.20386\n",
      "Epoch 30/1000\n",
      "2909/2909 [==============================] - 4s 1ms/step - loss: 1.2487 - accuracy: 0.5263 - val_loss: 1.3270 - val_accuracy: 0.5398\n",
      "\n",
      "Epoch 00030: val_loss did not improve from 1.20386\n",
      "Epoch 31/1000\n",
      "2909/2909 [==============================] - 4s 1ms/step - loss: 1.2267 - accuracy: 0.5431 - val_loss: 1.2130 - val_accuracy: 0.5659\n",
      "\n",
      "Epoch 00031: val_loss did not improve from 1.20386\n",
      "Epoch 32/1000\n",
      "2909/2909 [==============================] - 4s 1ms/step - loss: 1.2234 - accuracy: 0.5400 - val_loss: 1.2274 - val_accuracy: 0.5728\n",
      "\n",
      "Epoch 00032: val_loss did not improve from 1.20386\n",
      "Epoch 33/1000\n",
      "2909/2909 [==============================] - 4s 1ms/step - loss: 1.2113 - accuracy: 0.5466 - val_loss: 1.2823 - val_accuracy: 0.5536\n",
      "\n",
      "Epoch 00033: val_loss did not improve from 1.20386\n",
      "Epoch 34/1000\n",
      "2909/2909 [==============================] - 4s 1ms/step - loss: 1.2047 - accuracy: 0.5507 - val_loss: 1.2414 - val_accuracy: 0.5577\n",
      "\n",
      "Epoch 00034: val_loss did not improve from 1.20386\n",
      "Epoch 35/1000\n",
      "2909/2909 [==============================] - 4s 1ms/step - loss: 1.2355 - accuracy: 0.5359 - val_loss: 1.2639 - val_accuracy: 0.5522\n",
      "\n",
      "Epoch 00035: val_loss did not improve from 1.20386\n",
      "Epoch 36/1000\n",
      "2909/2909 [==============================] - 4s 1ms/step - loss: 1.2071 - accuracy: 0.5486 - val_loss: 1.1996 - val_accuracy: 0.5948\n",
      "\n",
      "Epoch 00036: val_loss improved from 1.20386 to 1.19961, saving model to models\\RNNModel.h5\n",
      "Epoch 37/1000\n",
      "2909/2909 [==============================] - 4s 1ms/step - loss: 1.1926 - accuracy: 0.5449 - val_loss: 1.1706 - val_accuracy: 0.5989\n",
      "\n",
      "Epoch 00037: val_loss improved from 1.19961 to 1.17059, saving model to models\\RNNModel.h5\n",
      "Epoch 38/1000\n"
     ]
    },
    {
     "name": "stdout",
     "output_type": "stream",
     "text": [
      "2909/2909 [==============================] - 4s 1ms/step - loss: 1.1771 - accuracy: 0.5658 - val_loss: 1.2597 - val_accuracy: 0.5549\n",
      "\n",
      "Epoch 00038: val_loss did not improve from 1.17059\n",
      "Epoch 39/1000\n",
      "2909/2909 [==============================] - 4s 1ms/step - loss: 1.1863 - accuracy: 0.5620 - val_loss: 1.2074 - val_accuracy: 0.5865\n",
      "\n",
      "Epoch 00039: val_loss did not improve from 1.17059\n",
      "Epoch 40/1000\n",
      "2909/2909 [==============================] - 4s 1ms/step - loss: 1.1708 - accuracy: 0.5634 - val_loss: 1.2165 - val_accuracy: 0.5687\n",
      "\n",
      "Epoch 00040: val_loss did not improve from 1.17059\n",
      "Epoch 41/1000\n",
      "2909/2909 [==============================] - 4s 1ms/step - loss: 1.1458 - accuracy: 0.5792 - val_loss: 1.2106 - val_accuracy: 0.5755\n",
      "\n",
      "Epoch 00041: val_loss did not improve from 1.17059\n",
      "Epoch 42/1000\n",
      "2909/2909 [==============================] - 4s 1ms/step - loss: 1.1566 - accuracy: 0.5679 - val_loss: 1.3088 - val_accuracy: 0.5508\n",
      "\n",
      "Epoch 00042: val_loss did not improve from 1.17059\n",
      "Epoch 43/1000\n",
      "2909/2909 [==============================] - 4s 1ms/step - loss: 1.1743 - accuracy: 0.5686 - val_loss: 1.2137 - val_accuracy: 0.5618\n",
      "\n",
      "Epoch 00043: val_loss did not improve from 1.17059\n",
      "Epoch 44/1000\n",
      "2909/2909 [==============================] - 4s 1ms/step - loss: 1.1471 - accuracy: 0.5710 - val_loss: 1.1649 - val_accuracy: 0.5865\n",
      "\n",
      "Epoch 00044: val_loss improved from 1.17059 to 1.16491, saving model to models\\RNNModel.h5\n",
      "Epoch 45/1000\n",
      "2909/2909 [==============================] - 4s 1ms/step - loss: 1.1019 - accuracy: 0.5847 - val_loss: 1.2722 - val_accuracy: 0.5659\n",
      "\n",
      "Epoch 00045: val_loss did not improve from 1.16491\n",
      "Epoch 46/1000\n",
      "2909/2909 [==============================] - 4s 1ms/step - loss: 1.1424 - accuracy: 0.5669 - val_loss: 1.2100 - val_accuracy: 0.5714\n",
      "\n",
      "Epoch 00046: val_loss did not improve from 1.16491\n",
      "Epoch 47/1000\n",
      "2909/2909 [==============================] - 4s 1ms/step - loss: 1.1032 - accuracy: 0.5916 - val_loss: 1.1501 - val_accuracy: 0.5948\n",
      "\n",
      "Epoch 00047: val_loss improved from 1.16491 to 1.15011, saving model to models\\RNNModel.h5\n",
      "Epoch 48/1000\n",
      "2909/2909 [==============================] - 4s 1ms/step - loss: 1.1023 - accuracy: 0.5920 - val_loss: 1.1335 - val_accuracy: 0.6058\n",
      "\n",
      "Epoch 00048: val_loss improved from 1.15011 to 1.13354, saving model to models\\RNNModel.h5\n",
      "Epoch 49/1000\n",
      "2909/2909 [==============================] - 4s 1ms/step - loss: 1.0878 - accuracy: 0.5954 - val_loss: 1.2181 - val_accuracy: 0.5852\n",
      "\n",
      "Epoch 00049: val_loss did not improve from 1.13354\n",
      "Epoch 50/1000\n",
      "2909/2909 [==============================] - 4s 1ms/step - loss: 1.0908 - accuracy: 0.5875 - val_loss: 1.1750 - val_accuracy: 0.5907\n",
      "\n",
      "Epoch 00050: val_loss did not improve from 1.13354\n",
      "Epoch 51/1000\n",
      "2909/2909 [==============================] - 4s 1ms/step - loss: 1.1113 - accuracy: 0.5830 - val_loss: 1.2240 - val_accuracy: 0.5975\n",
      "\n",
      "Epoch 00051: val_loss did not improve from 1.13354\n",
      "Epoch 52/1000\n",
      "2909/2909 [==============================] - 4s 1ms/step - loss: 1.1030 - accuracy: 0.5871 - val_loss: 1.1599 - val_accuracy: 0.5824\n",
      "\n",
      "Epoch 00052: val_loss did not improve from 1.13354\n",
      "Epoch 53/1000\n",
      "2909/2909 [==============================] - 4s 1ms/step - loss: 1.0715 - accuracy: 0.5937 - val_loss: 1.1260 - val_accuracy: 0.6140\n",
      "\n",
      "Epoch 00053: val_loss improved from 1.13354 to 1.12596, saving model to models\\RNNModel.h5\n",
      "Epoch 54/1000\n",
      "2909/2909 [==============================] - 4s 1ms/step - loss: 1.0884 - accuracy: 0.5944 - val_loss: 1.1677 - val_accuracy: 0.6016\n",
      "\n",
      "Epoch 00054: val_loss did not improve from 1.12596\n",
      "Epoch 55/1000\n",
      "2909/2909 [==============================] - 4s 1ms/step - loss: 1.0671 - accuracy: 0.5978 - val_loss: 1.1525 - val_accuracy: 0.6099\n",
      "\n",
      "Epoch 00055: val_loss did not improve from 1.12596\n",
      "Epoch 56/1000\n",
      "2909/2909 [==============================] - 4s 1ms/step - loss: 1.0605 - accuracy: 0.6050 - val_loss: 1.2029 - val_accuracy: 0.5783\n",
      "\n",
      "Epoch 00056: val_loss did not improve from 1.12596\n",
      "Epoch 57/1000\n",
      "2909/2909 [==============================] - 4s 1ms/step - loss: 1.0755 - accuracy: 0.5875 - val_loss: 1.1074 - val_accuracy: 0.6016\n",
      "\n",
      "Epoch 00057: val_loss improved from 1.12596 to 1.10740, saving model to models\\RNNModel.h5\n",
      "Epoch 58/1000\n",
      "2909/2909 [==============================] - 4s 1ms/step - loss: 1.0757 - accuracy: 0.5961 - val_loss: 1.2338 - val_accuracy: 0.5810\n",
      "\n",
      "Epoch 00058: val_loss did not improve from 1.10740\n",
      "Epoch 59/1000\n",
      "2909/2909 [==============================] - 4s 1ms/step - loss: 1.0518 - accuracy: 0.6105 - val_loss: 1.2180 - val_accuracy: 0.5865\n",
      "\n",
      "Epoch 00059: val_loss did not improve from 1.10740\n",
      "Epoch 60/1000\n",
      "2909/2909 [==============================] - 4s 1ms/step - loss: 1.0762 - accuracy: 0.6047 - val_loss: 1.2376 - val_accuracy: 0.5920\n",
      "\n",
      "Epoch 00060: val_loss did not improve from 1.10740\n",
      "Epoch 61/1000\n",
      "2909/2909 [==============================] - 4s 1ms/step - loss: 1.0543 - accuracy: 0.6085 - val_loss: 1.2550 - val_accuracy: 0.5687\n",
      "\n",
      "Epoch 00061: val_loss did not improve from 1.10740\n",
      "Epoch 62/1000\n",
      "2909/2909 [==============================] - 4s 1ms/step - loss: 1.0483 - accuracy: 0.5995 - val_loss: 1.2019 - val_accuracy: 0.5907\n",
      "\n",
      "Epoch 00062: val_loss did not improve from 1.10740\n",
      "Epoch 63/1000\n",
      "2909/2909 [==============================] - 4s 1ms/step - loss: 1.0595 - accuracy: 0.5988 - val_loss: 1.2347 - val_accuracy: 0.6085\n",
      "\n",
      "Epoch 00063: val_loss did not improve from 1.10740\n",
      "Epoch 64/1000\n",
      "2909/2909 [==============================] - 4s 1ms/step - loss: 1.0278 - accuracy: 0.6164 - val_loss: 1.1826 - val_accuracy: 0.5989\n",
      "\n",
      "Epoch 00064: val_loss did not improve from 1.10740\n",
      "Epoch 65/1000\n",
      "2909/2909 [==============================] - 4s 1ms/step - loss: 0.9952 - accuracy: 0.6232 - val_loss: 1.2657 - val_accuracy: 0.5783\n",
      "\n",
      "Epoch 00065: val_loss did not improve from 1.10740\n",
      "Epoch 66/1000\n",
      "2909/2909 [==============================] - 4s 1ms/step - loss: 1.0267 - accuracy: 0.6136 - val_loss: 1.2325 - val_accuracy: 0.5948\n",
      "\n",
      "Epoch 00066: val_loss did not improve from 1.10740\n",
      "Epoch 67/1000\n",
      "2909/2909 [==============================] - 4s 1ms/step - loss: 0.9915 - accuracy: 0.6311 - val_loss: 1.2330 - val_accuracy: 0.5797\n",
      "\n",
      "Epoch 00067: val_loss did not improve from 1.10740\n",
      "Training took 0:04:11.108991\n"
     ]
    }
   ],
   "source": [
    "# train model\n",
    "callbacks = [\n",
    "    EarlyStopping(monitor='val_loss', patience=10, restore_best_weights=True, verbose=0),\n",
    "    ModelCheckpoint(model_dest_file, verbose=1, save_best_only=True),\n",
    "]\n",
    "\n",
    "start = datetime.now()\n",
    "history = model.fit(x_train, y_train, validation_data=(x_test, y_test), **m.hyper_params, callbacks=callbacks, verbose=1)\n",
    "duration = datetime.now() - start\n",
    "print(f\"Training took {duration}\") \n",
    "\n",
    "# return model, history, (x_train, y_train), (x_test, y_test)"
   ]
  },
  {
   "cell_type": "markdown",
   "metadata": {},
   "source": [
    "## 2.3 Evaluate Model"
   ]
  },
  {
   "cell_type": "code",
   "execution_count": 23,
   "metadata": {
    "pycharm": {
     "is_executing": false
    }
   },
   "outputs": [],
   "source": [
    "from src.utils import plot_confusion_matrix, plot_metric\n",
    "#from sklearn.metrics import plot_confusion_matrix\n",
    "import matplotlib.pyplot as plt"
   ]
  },
  {
   "cell_type": "code",
   "execution_count": 24,
   "metadata": {
    "pycharm": {
     "is_executing": false
    }
   },
   "outputs": [],
   "source": [
    "def score_model(model, train_xy: Tuple, test_xy: Tuple) -> None:\n",
    "    \"\"\"Evaluating the model on the training and testing set\"\"\"\n",
    "    \n",
    "    loss, acc = model.evaluate(*train_xy, verbose=0)\n",
    "    print(f\"Training Accuracy: {acc:.3f} / Loss: {loss:.3f}\")\n",
    "\n",
    "    loss, acc = model.evaluate(*test_xy, verbose=0)\n",
    "    print(f\"Testing Accuracy: {acc:.3f} / Loss: {loss:.3f}\")\n",
    "    \n",
    "    return loss, acc"
   ]
  },
  {
   "cell_type": "code",
   "execution_count": 25,
   "metadata": {
    "pycharm": {
     "is_executing": false
    }
   },
   "outputs": [
    {
     "name": "stdout",
     "output_type": "stream",
     "text": [
      "Training Accuracy: 0.757 / Loss: 0.695\n",
      "Testing Accuracy: 0.602 / Loss: 1.107\n"
     ]
    }
   ],
   "source": [
    "loss, acc = score_model(model, (x_train, y_train), (x_test, y_test))"
   ]
  },
  {
   "cell_type": "markdown",
   "metadata": {},
   "source": [
    "### 2.3.1 Plot t training history\n",
    "\n",
    "#### Accuracy"
   ]
  },
  {
   "cell_type": "code",
   "execution_count": 26,
   "metadata": {},
   "outputs": [
    {
     "name": "stderr",
     "output_type": "stream",
     "text": [
      "D:\\Users\\Me\\Documents\\FH\\DSE\\CO2\\DeepLearning\\Project\\UrbanSound\\src\\utils.py:75: UserWarning: Matplotlib is currently using agg, which is a non-GUI backend, so cannot show the figure.\n",
      "  plt.show(block=False)\n"
     ]
    }
   ],
   "source": [
    "plot_metric(history, 'accuracy', max, model_name, fig_dir)"
   ]
  },
  {
   "cell_type": "markdown",
   "metadata": {},
   "source": [
    "#### Loss"
   ]
  },
  {
   "cell_type": "code",
   "execution_count": 27,
   "metadata": {},
   "outputs": [],
   "source": [
    "plot_metric(history, 'loss', min, model_name, fig_dir)"
   ]
  },
  {
   "cell_type": "markdown",
   "metadata": {},
   "source": [
    "### 2.3.1 Visualize results\n",
    "\n",
    "#### Confusion Matrix"
   ]
  },
  {
   "cell_type": "code",
   "execution_count": 28,
   "metadata": {
    "pycharm": {
     "is_executing": false
    }
   },
   "outputs": [],
   "source": [
    "y_pred = model.predict_classes(x_test)"
   ]
  },
  {
   "cell_type": "code",
   "execution_count": 29,
   "metadata": {
    "pycharm": {
     "is_executing": false
    }
   },
   "outputs": [],
   "source": [
    "y = y_test.argmax(axis=-1)  # transform one-hot encoded vector back to"
   ]
  },
  {
   "cell_type": "code",
   "execution_count": 35,
   "metadata": {
    "pycharm": {
     "is_executing": false
    },
    "scrolled": false
   },
   "outputs": [
    {
     "data": {
      "image/png": "[encoded data removed]",
      "text/plain": [
       "<Figure size 432x288 with 2 Axes>"
      ]
     },
     "metadata": {
      "needs_background": "light"
     },
     "output_type": "display_data"
    },
    {
     "name": "stderr",
     "output_type": "stream",
     "text": [
      "COMET WARNING: Refuse to upload empty figure, please call log_figure before calling show\n",
      "COMET WARNING: Failing to save the matplotlib figure\n"
     ]
    },
    {
     "data": {
      "text/plain": [
       "<Figure size 432x288 with 0 Axes>"
      ]
     },
     "metadata": {},
     "output_type": "display_data"
    }
   ],
   "source": [
    "# cm = confusion_matrix(y, y_pred, labels=classes)\n",
    "conv_mat = confusion_matrix(y, y_pred)\n",
    "plot = plot_confusion_matrix(conv_mat, classes)\n",
    "experiment.log_figure(figure=plot,figure_name=\"Confusion Matrix\")"
   ]
  },
  {
   "cell_type": "markdown",
   "metadata": {},
   "source": [
    "### 2.4 Save model"
   ]
  },
  {
   "cell_type": "code",
   "execution_count": 31,
   "metadata": {},
   "outputs": [],
   "source": [
    "model_json = model.to_json()\n",
    "with open(MODELS_DIR/f\"{model_name}.json\", \"w\") as json_file:\n",
    "    json_file.write(model_json)"
   ]
  }
 ],
 "metadata": {
  "kernelspec": {
   "display_name": "Python 3",
   "language": "python",
   "name": "python3"
  },
  "language_info": {
   "codemirror_mode": {
    "name": "ipython",
    "version": 3
   },
   "file_extension": ".py",
   "mimetype": "text/x-python",
   "name": "python",
   "nbconvert_exporter": "python",
   "pygments_lexer": "ipython3",
   "version": "3.7.2"
  },
  "pycharm": {
   "stem_cell": {
    "cell_type": "raw",
    "metadata": {
     "collapsed": false
    },
    "source": []
   }
  }
 },
 "nbformat": 4,
 "nbformat_minor": 1
}
