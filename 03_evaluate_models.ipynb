{
 "cells": [
  {
   "cell_type": "markdown",
   "metadata": {
    "collapsed": true
   },
   "source": [
    "# Urban Sound Challenge\n",
    "# 3. Evaluating Models\n",
    "\n"
   ]
  },
  {
   "cell_type": "code",
   "execution_count": 1,
   "metadata": {
    "pycharm": {
     "is_executing": true
    }
   },
   "outputs": [
    {
     "name": "stderr",
     "output_type": "stream",
     "text": [
      "Using TensorFlow backend.\n"
     ]
    }
   ],
   "source": [
    "from pathlib import Path\n",
    "import os\n",
    "import pandas as pd\n",
    "import numpy as np\n",
    "import pycm\n",
    "from sklearn.preprocessing import LabelEncoder\n",
    "from keras.utils import to_categorical\n",
    "from keras.callbacks import EarlyStopping, ModelCheckpoint\n",
    "import matplotlib.pyplot as plt\n",
    "import seaborn as sns\n",
    "import altair as alt\n",
    "\n",
    "from src.utils import load_data, extract_features\n",
    "from src.models import MLPModel, CNNModel, LSTMModel, RNNModel, GRUModel"
   ]
  },
  {
   "cell_type": "code",
   "execution_count": 17,
   "metadata": {},
   "outputs": [],
   "source": [
    "%matplotlib inline"
   ]
  },
  {
   "cell_type": "code",
   "execution_count": 2,
   "metadata": {
    "pycharm": {
     "is_executing": true
    }
   },
   "outputs": [],
   "source": [
    "MODELS = {m.__name__: m for m in [MLPModel, CNNModel, LSTMModel, RNNModel, GRUModel]}\n",
    "# "
   ]
  },
  {
   "cell_type": "code",
   "execution_count": 3,
   "metadata": {
    "pycharm": {
     "is_executing": true,
     "name": "#%%\n"
    }
   },
   "outputs": [],
   "source": [
    "classes = [\n",
    "    'air_conditioner',\n",
    "    'car_horn',\n",
    "    'children_playing',\n",
    "    'dog_bark',\n",
    "    'drilling',\n",
    "    'engine_idling',\n",
    "    'gun_shot',\n",
    "    'jackhammer',\n",
    "    'siren',\n",
    "    'street_music'\n",
    "]\n",
    "class_mapping = {i: c for i, c in enumerate(classes)}"
   ]
  },
  {
   "cell_type": "markdown",
   "metadata": {
    "pycharm": {
     "name": "#%% md\n"
    }
   },
   "source": [
    "## 3.1 Load Resources\n",
    "\n",
    "### 3.1.1 Load test data\n",
    "\n",
    "Final evaluation of models will be done on dedicated test data which was never used for training."
   ]
  },
  {
   "cell_type": "code",
   "execution_count": 4,
   "metadata": {
    "pycharm": {
     "is_executing": true,
     "name": "#%%\n"
    }
   },
   "outputs": [
    {
     "name": "stdout",
     "output_type": "stream",
     "text": [
      "Loading cached data!\n",
      "33 samples loaded!\n"
     ]
    }
   ],
   "source": [
    "data_dir = Path('./data/raw')\n",
    "data = load_data(data_dir, \"test.csv\", \"test_cached.pkl\")\n",
    "print(f\"{len(data)} samples loaded!\")"
   ]
  },
  {
   "cell_type": "markdown",
   "metadata": {
    "pycharm": {
     "name": "#%% md\n"
    }
   },
   "source": [
    "### 3.1.2 Load models"
   ]
  },
  {
   "cell_type": "code",
   "execution_count": 5,
   "metadata": {
    "pycharm": {
     "is_executing": true
    }
   },
   "outputs": [],
   "source": [
    "MODELS_DIR = Path('./models')\n",
    "available_model_weights = [m for m in os.listdir(MODELS_DIR) if m.endswith('.h5')]"
   ]
  },
  {
   "cell_type": "code",
   "execution_count": 6,
   "metadata": {
    "pycharm": {
     "is_executing": true
    }
   },
   "outputs": [
    {
     "data": {
      "text/plain": [
       "['CNNModel.h5',\n",
       " 'GRUModel.h5',\n",
       " 'LSTMModel.h5',\n",
       " 'MLPModel.h5',\n",
       " 'MLP_v1.h5',\n",
       " 'RNNModel.h5']"
      ]
     },
     "execution_count": 6,
     "metadata": {},
     "output_type": "execute_result"
    }
   ],
   "source": [
    "available_model_weights"
   ]
  },
  {
   "cell_type": "code",
   "execution_count": 7,
   "metadata": {
    "pycharm": {
     "is_executing": true,
     "name": "#%%\n"
    },
    "scrolled": true
   },
   "outputs": [
    {
     "name": "stdout",
     "output_type": "stream",
     "text": [
      "Loading weights for CNNModel: CNNModel.h5\n",
      "Loading weights for GRUModel: GRUModel.h5\n",
      "Loading weights for LSTMModel: LSTMModel.h5\n",
      "Input shape: (174, 40)\n",
      "Loading weights for MLPModel: MLPModel.h5\n",
      "Loading weights for RNNModel: RNNModel.h5\n",
      "Input shape: (174, 40)\n"
     ]
    }
   ],
   "source": [
    "models = []\n",
    "for weights_name in available_model_weights:\n",
    "    model_name = Path(weights_name).stem\n",
    "    if model_name in MODELS:\n",
    "        print(f\"Loading weights for {model_name}: {weights_name}\")\n",
    "        m = MODELS[model_name].create(len(classes))\n",
    "        m.load_weights(MODELS_DIR/weights_name)\n",
    "        models.append((MODELS[model_name], m))"
   ]
  },
  {
   "cell_type": "markdown",
   "metadata": {
    "pycharm": {
     "name": "#%% md\n"
    }
   },
   "source": [
    "## 3.2 Run predictions on each model\n",
    "\n",
    "### 3.2.1 Extract features"
   ]
  },
  {
   "cell_type": "code",
   "execution_count": 8,
   "metadata": {
    "pycharm": {
     "is_executing": true
    }
   },
   "outputs": [],
   "source": [
    "def preprocess_features(df, cache_name: str=None, **kwargs):\n",
    "    CACHE_DIR = Path('./data/interim/')\n",
    "    if cache_name is None:  # create default cache name\n",
    "        dim = str(kwargs.get('output_ndim', 2))+\"d\"\n",
    "        pad_mode = kwargs.get('pad_mode', 'constant')\n",
    "        cache_name = f\"_prepped_{dim}_{pad_mode}.pkl\"\n",
    "        \n",
    "    if os.path.exists(CACHE_DIR/cache_name):\n",
    "        print(f\"Loading cached data!\")\n",
    "        return pd.read_pickle(CACHE_DIR/cache_name)\n",
    "    df_extracted = df.apply(lambda x: extract_features(x.raw, x.sample_rate, **kwargs), axis=1)\n",
    "    \n",
    "    df = pd.concat([df, df_extracted], axis=1)\n",
    "    if cache_name is not None:\n",
    "        print(f\"Saved prepped data to '{cache_name}'\")\n",
    "        df.to_pickle(CACHE_DIR/cache_name)\n",
    "    return df"
   ]
  },
  {
   "cell_type": "code",
   "execution_count": 9,
   "metadata": {
    "pycharm": {
     "is_executing": true
    }
   },
   "outputs": [
    {
     "name": "stdout",
     "output_type": "stream",
     "text": [
      "Loading cached data!\n"
     ]
    }
   ],
   "source": [
    "df = preprocess_features(data, \"test_data\", max_pad=174)"
   ]
  },
  {
   "cell_type": "code",
   "execution_count": 10,
   "metadata": {
    "pycharm": {
     "is_executing": true,
     "name": "#%%\n"
    },
    "scrolled": false
   },
   "outputs": [
    {
     "data": {
      "text/html": [
       "<div>\n",
       "<style scoped>\n",
       "    .dataframe tbody tr th:only-of-type {\n",
       "        vertical-align: middle;\n",
       "    }\n",
       "\n",
       "    .dataframe tbody tr th {\n",
       "        vertical-align: top;\n",
       "    }\n",
       "\n",
       "    .dataframe thead th {\n",
       "        text-align: right;\n",
       "    }\n",
       "</style>\n",
       "<table border=\"1\" class=\"dataframe\">\n",
       "  <thead>\n",
       "    <tr style=\"text-align: right;\">\n",
       "      <th></th>\n",
       "      <th>ID</th>\n",
       "      <th>Class</th>\n",
       "      <th>raw</th>\n",
       "      <th>sample_rate</th>\n",
       "      <th>duration</th>\n",
       "      <th>features</th>\n",
       "      <th>n_mfccs</th>\n",
       "      <th>n_frames</th>\n",
       "      <th>n_samples</th>\n",
       "    </tr>\n",
       "  </thead>\n",
       "  <tbody>\n",
       "    <tr>\n",
       "      <th>0</th>\n",
       "      <td>60</td>\n",
       "      <td>siren</td>\n",
       "      <td>[-0.1501603, -0.22697054, -0.18564214, -0.1575...</td>\n",
       "      <td>22050</td>\n",
       "      <td>4.0</td>\n",
       "      <td>[[-85.74231, -97.987305, -149.24211, -144.3163...</td>\n",
       "      <td>40</td>\n",
       "      <td>174</td>\n",
       "      <td>88200</td>\n",
       "    </tr>\n",
       "    <tr>\n",
       "      <th>1</th>\n",
       "      <td>68</td>\n",
       "      <td>dog_bark</td>\n",
       "      <td>[0.0, 0.0, 0.0, 0.0, 0.0, 0.0, 0.0, 0.0, 0.0, ...</td>\n",
       "      <td>22050</td>\n",
       "      <td>4.0</td>\n",
       "      <td>[[-522.5737, -386.47192, -295.27643, -248.5259...</td>\n",
       "      <td>40</td>\n",
       "      <td>174</td>\n",
       "      <td>88200</td>\n",
       "    </tr>\n",
       "    <tr>\n",
       "      <th>2</th>\n",
       "      <td>1001</td>\n",
       "      <td>air_conditioner</td>\n",
       "      <td>[-0.0244173, -0.08245073, -0.150833, -0.180281...</td>\n",
       "      <td>22050</td>\n",
       "      <td>4.0</td>\n",
       "      <td>[[-47.746044, -41.07793, -43.417732, -44.52945...</td>\n",
       "      <td>40</td>\n",
       "      <td>174</td>\n",
       "      <td>88200</td>\n",
       "    </tr>\n",
       "    <tr>\n",
       "      <th>3</th>\n",
       "      <td>1004</td>\n",
       "      <td>air_conditioner</td>\n",
       "      <td>[-0.02486453, -0.030850401, -0.026526619, -0.0...</td>\n",
       "      <td>22050</td>\n",
       "      <td>4.0</td>\n",
       "      <td>[[-246.2536, -236.39981, -235.75073, -242.3951...</td>\n",
       "      <td>40</td>\n",
       "      <td>174</td>\n",
       "      <td>88200</td>\n",
       "    </tr>\n",
       "    <tr>\n",
       "      <th>4</th>\n",
       "      <td>1006</td>\n",
       "      <td>jackhammer</td>\n",
       "      <td>[0.016366571, 0.045260947, 0.055535704, 0.0412...</td>\n",
       "      <td>22050</td>\n",
       "      <td>4.0</td>\n",
       "      <td>[[-127.11581, -134.37817, -149.66733, -86.7684...</td>\n",
       "      <td>40</td>\n",
       "      <td>174</td>\n",
       "      <td>88200</td>\n",
       "    </tr>\n",
       "  </tbody>\n",
       "</table>\n",
       "</div>"
      ],
      "text/plain": [
       "     ID            Class                                                raw  \\\n",
       "0    60            siren  [-0.1501603, -0.22697054, -0.18564214, -0.1575...   \n",
       "1    68         dog_bark  [0.0, 0.0, 0.0, 0.0, 0.0, 0.0, 0.0, 0.0, 0.0, ...   \n",
       "2  1001  air_conditioner  [-0.0244173, -0.08245073, -0.150833, -0.180281...   \n",
       "3  1004  air_conditioner  [-0.02486453, -0.030850401, -0.026526619, -0.0...   \n",
       "4  1006       jackhammer  [0.016366571, 0.045260947, 0.055535704, 0.0412...   \n",
       "\n",
       "   sample_rate  duration                                           features  \\\n",
       "0        22050       4.0  [[-85.74231, -97.987305, -149.24211, -144.3163...   \n",
       "1        22050       4.0  [[-522.5737, -386.47192, -295.27643, -248.5259...   \n",
       "2        22050       4.0  [[-47.746044, -41.07793, -43.417732, -44.52945...   \n",
       "3        22050       4.0  [[-246.2536, -236.39981, -235.75073, -242.3951...   \n",
       "4        22050       4.0  [[-127.11581, -134.37817, -149.66733, -86.7684...   \n",
       "\n",
       "   n_mfccs  n_frames  n_samples  \n",
       "0       40       174      88200  \n",
       "1       40       174      88200  \n",
       "2       40       174      88200  \n",
       "3       40       174      88200  \n",
       "4       40       174      88200  "
      ]
     },
     "execution_count": 10,
     "metadata": {},
     "output_type": "execute_result"
    }
   ],
   "source": [
    "df.head()"
   ]
  },
  {
   "cell_type": "markdown",
   "metadata": {
    "pycharm": {
     "name": "#%% md\n"
    }
   },
   "source": [
    "Prepare data for usage by converting features and corresponding classification labels into numpy arrays and One-Hot encoding the labels"
   ]
  },
  {
   "cell_type": "code",
   "execution_count": 11,
   "metadata": {
    "pycharm": {
     "is_executing": true,
     "name": "#%%\n"
    }
   },
   "outputs": [],
   "source": [
    "x = np.array(df.features.tolist())\n",
    "y = np.array([classes.index(c) for c in df.Class.tolist()])\n",
    "\n",
    "# # Encode the classification labels\n",
    "# le = LabelEncoder()\n",
    "# y_1h = to_categorical(le.fit_transform(y))"
   ]
  },
  {
   "cell_type": "markdown",
   "metadata": {
    "pycharm": {
     "name": "#%% md\n"
    }
   },
   "source": [
    "### 3.2.2 Make prediction"
   ]
  },
  {
   "cell_type": "code",
   "execution_count": 12,
   "metadata": {
    "pycharm": {
     "is_executing": true
    }
   },
   "outputs": [],
   "source": [
    "cms = {}\n",
    "metrics = []\n",
    "\n",
    "for model_cls, model in models:\n",
    "    _x = model_cls.reshape_data(x)\n",
    "    y_pred = model.predict_classes(_x)\n",
    "    cm = pycm.ConfusionMatrix(actual_vector=y, predict_vector=y_pred)\n",
    "    cm.relabel(class_mapping)\n",
    "    cms[model.name] = cm\n",
    "    \n",
    "    # save relevant metrics for later comparison\n",
    "    metrics.append({\n",
    "        'model': model.name, \n",
    "        'Accuracy': cm.overall_stat['Overall ACC'],\n",
    "        'F1-Micro': cm.overall_stat['F1 Micro'],\n",
    "        'Kappa': cm.overall_stat['Kappa']\n",
    "        })"
   ]
  },
  {
   "cell_type": "code",
   "execution_count": 13,
   "metadata": {},
   "outputs": [],
   "source": [
    "def plot_confusion_matrix(cm,normalize=False,title='Confusion matrix',annot=False,cmap=\"YlGnBu\"):\n",
    "    if normalize == True:\n",
    "        df = pd.DataFrame(cm.normalized_matrix).T.fillna(0)\n",
    "    else:\n",
    "        df = pd.DataFrame(cm.matrix).T.fillna(0)\n",
    "        \n",
    "    ax = sns.heatmap(df,annot=annot,cmap=cmap)\n",
    "    ax.set_title(title)\n",
    "    ax.set(xlabel='Predict', ylabel='Actual')\n",
    "    ax.figure.subplots_adjust(bottom = 0.2)"
   ]
  },
  {
   "cell_type": "code",
   "execution_count": null,
   "outputs": [],
   "source": [
    "plot_confusion_matrix(cms['RNN'],title=\"rnn\",annot=True)"
   ],
   "metadata": {
    "collapsed": false,
    "pycharm": {
     "name": "#%%\n"
    }
   }
  },
  {
   "cell_type": "code",
   "execution_count": 21,
   "metadata": {},
   "outputs": [
    {
     "data": {
      "image/png": "[encoded data removed]",
      "text/plain": [
       "<Figure size 432x288 with 2 Axes>"
      ]
     },
     "metadata": {
      "needs_background": "light"
     },
     "output_type": "display_data"
    }
   ],
   "source": [
    "pd.DataFrame(metrics)"
   ]
  },
  {
   "cell_type": "code",
   "execution_count": 15,
   "metadata": {},
   "outputs": [
    {
     "data": {
      "text/html": [
       "<div>\n",
       "<style scoped>\n",
       "    .dataframe tbody tr th:only-of-type {\n",
       "        vertical-align: middle;\n",
       "    }\n",
       "\n",
       "    .dataframe tbody tr th {\n",
       "        vertical-align: top;\n",
       "    }\n",
       "\n",
       "    .dataframe thead th {\n",
       "        text-align: right;\n",
       "    }\n",
       "</style>\n",
       "<table border=\"1\" class=\"dataframe\">\n",
       "  <thead>\n",
       "    <tr style=\"text-align: right;\">\n",
       "      <th></th>\n",
       "      <th>model</th>\n",
       "      <th>Accuracy</th>\n",
       "      <th>F1-Micro</th>\n",
       "      <th>Kappa</th>\n",
       "    </tr>\n",
       "  </thead>\n",
       "  <tbody>\n",
       "    <tr>\n",
       "      <th>0</th>\n",
       "      <td>CNN</td>\n",
       "      <td>0.848485</td>\n",
       "      <td>0.848485</td>\n",
       "      <td>0.825766</td>\n",
       "    </tr>\n",
       "    <tr>\n",
       "      <th>1</th>\n",
       "      <td>GRU</td>\n",
       "      <td>0.757576</td>\n",
       "      <td>0.757576</td>\n",
       "      <td>0.725857</td>\n",
       "    </tr>\n",
       "    <tr>\n",
       "      <th>2</th>\n",
       "      <td>LSTM</td>\n",
       "      <td>0.757576</td>\n",
       "      <td>0.757576</td>\n",
       "      <td>0.725857</td>\n",
       "    </tr>\n",
       "    <tr>\n",
       "      <th>3</th>\n",
       "      <td>MLP</td>\n",
       "      <td>1.000000</td>\n",
       "      <td>1.000000</td>\n",
       "      <td>1.000000</td>\n",
       "    </tr>\n",
       "    <tr>\n",
       "      <th>4</th>\n",
       "      <td>RNN</td>\n",
       "      <td>0.606061</td>\n",
       "      <td>0.606061</td>\n",
       "      <td>0.551724</td>\n",
       "    </tr>\n",
       "  </tbody>\n",
       "</table>\n",
       "</div>"
      ],
      "text/plain": [
       "  model  Accuracy  F1-Micro     Kappa\n",
       "0   CNN  0.848485  0.848485  0.825766\n",
       "1   GRU  0.757576  0.757576  0.725857\n",
       "2  LSTM  0.757576  0.757576  0.725857\n",
       "3   MLP  1.000000  1.000000  1.000000\n",
       "4   RNN  0.606061  0.606061  0.551724"
      ]
     },
     "execution_count": 15,
     "metadata": {},
     "output_type": "execute_result"
    }
   ],
   "source": [
    "pd.DataFrame(metrics)"
   ]
  }
 ],
 "metadata": {
  "kernelspec": {
   "display_name": "Python 3",
   "language": "python",
   "name": "python3"
  },
  "language_info": {
   "codemirror_mode": {
    "name": "ipython",
    "version": 3
   },
   "file_extension": ".py",
   "mimetype": "text/x-python",
   "name": "python",
   "nbconvert_exporter": "python",
   "pygments_lexer": "ipython3",
   "version": "3.7.2"
  },
  "pycharm": {
   "stem_cell": {
    "cell_type": "raw",
    "source": [],
    "metadata": {
     "collapsed": false
    }
   }
  }
 },
 "nbformat": 4,
 "nbformat_minor": 1
}